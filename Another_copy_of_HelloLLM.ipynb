{
  "nbformat": 4,
  "nbformat_minor": 0,
  "metadata": {
    "colab": {
      "provenance": [],
      "authorship_tag": "ABX9TyNSYPt3SBDM4I9tAtaBdNUv",
      "include_colab_link": true
    },
    "kernelspec": {
      "name": "python3",
      "display_name": "Python 3"
    },
    "language_info": {
      "name": "python"
    }
  },
  "cells": [
    {
      "cell_type": "markdown",
      "metadata": {
        "id": "view-in-github",
        "colab_type": "text"
      },
      "source": [
        "<a href=\"https://colab.research.google.com/github/techrk98/cloud-foundation-training/blob/master/Another_copy_of_HelloLLM.ipynb\" target=\"_parent\"><img src=\"https://colab.research.google.com/assets/colab-badge.svg\" alt=\"Open In Colab\"/></a>"
      ]
    },
    {
      "cell_type": "code",
      "execution_count": null,
      "metadata": {
        "colab": {
          "base_uri": "https://localhost:8080/",
          "height": 474
        },
        "id": "RururGPO57WB",
        "outputId": "64297ed5-b9c0-4b7c-9475-3a23e070aeab"
      },
      "outputs": [
        {
          "output_type": "stream",
          "name": "stdout",
          "text": [
            "gemini Says Debit: Account ABC\n",
            "gemini says credit: Account XYZ\n",
            "gemini says Debit: Account X123\n",
            "\n",
            "When you make a payment, the account that is debited is the one that is losing money. In this case, Account X123 is the one that will be losing $1000, so it should be debited.\n",
            "gemini says Credit: Account A123\n",
            "\n",
            "When you make a payment, the account that is credited is the one that is receiving money. In this case, Account A123 is the one that will be receiving $1000, so it should be credited.\n"
          ]
        },
        {
          "output_type": "error",
          "ename": "ValueError",
          "evalue": "",
          "traceback": [
            "\u001b[0;31m---------------------------------------------------------------------------\u001b[0m",
            "\u001b[0;31mValueError\u001b[0m                                Traceback (most recent call last)",
            "\u001b[0;32m<ipython-input-8-7534a7cb4683>\u001b[0m in \u001b[0;36m<cell line: 46>\u001b[0;34m()\u001b[0m\n\u001b[1;32m     44\u001b[0m \u001b[0mprint\u001b[0m\u001b[0;34m(\u001b[0m \u001b[0;34m\"gemini says Credit:\"\u001b[0m\u001b[0;34m,\u001b[0m\u001b[0mchatResponse\u001b[0m\u001b[0;34m.\u001b[0m\u001b[0mtext\u001b[0m\u001b[0;34m)\u001b[0m\u001b[0;34m;\u001b[0m\u001b[0;34m\u001b[0m\u001b[0;34m\u001b[0m\u001b[0m\n\u001b[1;32m     45\u001b[0m \u001b[0mchatResponse\u001b[0m \u001b[0;34m=\u001b[0m \u001b[0mchat\u001b[0m\u001b[0;34m.\u001b[0m\u001b[0msend_message\u001b[0m\u001b[0;34m(\u001b[0m\u001b[0;34m\"Can you draw simple diagram showing the money flow?\"\u001b[0m\u001b[0;34m)\u001b[0m\u001b[0;34m\u001b[0m\u001b[0;34m\u001b[0m\u001b[0m\n\u001b[0;32m---> 46\u001b[0;31m \u001b[0mprint\u001b[0m\u001b[0;34m(\u001b[0m \u001b[0;34m\"gemini says Credit:\"\u001b[0m\u001b[0;34m,\u001b[0m\u001b[0mchatResponse\u001b[0m\u001b[0;34m.\u001b[0m\u001b[0mcandidates\u001b[0m\u001b[0;34m.\u001b[0m\u001b[0mindex\u001b[0m\u001b[0;34m(\u001b[0m\u001b[0;36m0\u001b[0m\u001b[0;34m)\u001b[0m\u001b[0;34m)\u001b[0m\u001b[0;34m;\u001b[0m\u001b[0;34m\u001b[0m\u001b[0;34m\u001b[0m\u001b[0m\n\u001b[0m\u001b[1;32m     47\u001b[0m \u001b[0;34m\u001b[0m\u001b[0m\n",
            "\u001b[0;32m/usr/lib/python3.10/_collections_abc.py\u001b[0m in \u001b[0;36mindex\u001b[0;34m(self, value, start, stop)\u001b[0m\n\u001b[1;32m   1078\u001b[0m                 \u001b[0;32mbreak\u001b[0m\u001b[0;34m\u001b[0m\u001b[0;34m\u001b[0m\u001b[0m\n\u001b[1;32m   1079\u001b[0m             \u001b[0mi\u001b[0m \u001b[0;34m+=\u001b[0m \u001b[0;36m1\u001b[0m\u001b[0;34m\u001b[0m\u001b[0;34m\u001b[0m\u001b[0m\n\u001b[0;32m-> 1080\u001b[0;31m         \u001b[0;32mraise\u001b[0m \u001b[0mValueError\u001b[0m\u001b[0;34m\u001b[0m\u001b[0;34m\u001b[0m\u001b[0m\n\u001b[0m\u001b[1;32m   1081\u001b[0m \u001b[0;34m\u001b[0m\u001b[0m\n\u001b[1;32m   1082\u001b[0m     \u001b[0;32mdef\u001b[0m \u001b[0mcount\u001b[0m\u001b[0;34m(\u001b[0m\u001b[0mself\u001b[0m\u001b[0;34m,\u001b[0m \u001b[0mvalue\u001b[0m\u001b[0;34m)\u001b[0m\u001b[0;34m:\u001b[0m\u001b[0;34m\u001b[0m\u001b[0;34m\u001b[0m\u001b[0m\n",
            "\u001b[0;31mValueError\u001b[0m: "
          ]
        }
      ],
      "source": [
        "#develop an API client for Gemini GenAI\n",
        "import pathlib\n",
        "import textwrap\n",
        "import os\n",
        "\n",
        "import google.generativeai as genai\n",
        "\n",
        "from IPython.display import display\n",
        "from IPython.display import Markdown\n",
        "# Used to securely store your API key\n",
        "from google.colab import userdata\n",
        "\n",
        "\n",
        "def to_markdown(text):\n",
        "  text = text.replace('•', '  *')\n",
        "  return Markdown(textwrap.indent(text, '> ', predicate=lambda _: True))\n",
        "\n",
        "# Or use `os.getenv('GOOGLE_API_KEY')` to fetch an environment variable.\n",
        "GOOGLE_API_KEY=userdata.get('GOOGLE_API_KEY')\n",
        "genai.configure(api_key=GOOGLE_API_KEY)\n",
        "#for m in genai.list_models():\n",
        "#  if 'generateContent' in m.supported_generation_methods:\n",
        "#    print(m.name)\n",
        "\n",
        "model = genai.GenerativeModel('gemini-pro')\n",
        "\n",
        "#response = model.generate_content(\"I have to pay $1000 from Account ABC to Account XYZ. Which acocunt should be debited?\")\n",
        "#to_markdown(response.text)\n",
        "#print( \"gemini:\",response.text)\n",
        "#response = model.generate_content(\"Which account should be credited?\")\n",
        "#to_markdown(response.text)\n",
        "#print( \"gemini:\",response.text)\n",
        "\n",
        "model = genai.GenerativeModel('gemini-pro')\n",
        "chat = model.start_chat(history=[])\n",
        "chatResponse = chat.send_message(\"I have to pay $1000 from Account ABC to Account XYZ. Which acocunt should be debited?\")\n",
        "print( \"gemini Says Debit:\",chatResponse.text);\n",
        "chatResponse = chat.send_message(\"Which account should be credited?\")\n",
        "print( \"gemini says credit:\",chatResponse.text);\n",
        "\n",
        "chatResponse = chat.send_message(\"I need to pay $1000 to Account A123. I have money in Account X123. Which acocunt should be debited?\")\n",
        "print( \"gemini says Debit:\",chatResponse.text);\n",
        "chatResponse = chat.send_message(\"Which account should be credited?\")\n",
        "print( \"gemini says Credit:\",chatResponse.text);\n",
        "chatResponse = chat.send_message(\"Can you draw simple diagram showing the money flow?\")\n",
        "print( \"gemini says Credit:\",chatResponse.candidates.index(0));\n",
        "\n"
      ]
    }
  ]
}